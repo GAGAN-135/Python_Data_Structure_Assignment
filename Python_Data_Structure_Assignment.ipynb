{
  "nbformat": 4,
  "nbformat_minor": 0,
  "metadata": {
    "colab": {
      "private_outputs": true,
      "provenance": []
    },
    "kernelspec": {
      "name": "python3",
      "display_name": "Python 3"
    },
    "language_info": {
      "name": "python"
    }
  },
  "cells": [
    {
      "cell_type": "code",
      "execution_count": null,
      "metadata": {
        "id": "a7QMV5vjvuvg"
      },
      "outputs": [],
      "source": [
        "'''Q1-Write ' %ode to re\u0013er\n",
        "e '\n",
        "tring'''\n",
        "def reverse(s):\n",
        "    str = \"\"\n",
        "    for i in s:\n",
        "         str=i+str\n",
        "    return str\n",
        "reverse('Hello')"
      ]
    },
    {
      "cell_type": "code",
      "source": [
        "''' Q2. Write Code to Count the nu\n",
        "ber of VOWELS in  StrinG'''\n",
        "str=\"higagan\"\n",
        "vowel=0\n",
        "consonent=0\n",
        "for i in str:\n",
        "    if (i == 'a' or i == 'e' or i == 'i' or i == 'o' or i == 'u' ):\n",
        "        vowel=vowel+1\n",
        "    else:\n",
        "        consonent=consonent+1\n",
        "print(\"the  vowel in the string\", vowel)\n",
        "print(\"the  consonent in the string\", consonent)"
      ],
      "metadata": {
        "id": "VemZ_kQb2WhM"
      },
      "execution_count": null,
      "outputs": []
    },
    {
      "cell_type": "code",
      "source": [
        "'''Q3- Write the code to check if given string is palindrome or not'''\n",
        "str=input(\"Enter string\")\n",
        "revstr=\"\"\n",
        "for i in str:\n",
        "    revstr=i+revstr\n",
        "print(\"The reverse string is\", revstr)\n",
        "if(str == revstr):\n",
        "    print(\"it is a palindrome\")\n",
        "else:\n",
        "    print(\"it is not a palindrome.\")"
      ],
      "metadata": {
        "id": "sYrpSpCR5P87"
      },
      "execution_count": null,
      "outputs": []
    },
    {
      "cell_type": "code",
      "source": [
        "'''Q4- Write a code to check if two given strings are anagrams of each other'''\n",
        "str1 = input(\"enter string\")\n",
        "str2 = input(\"enter second string\")\n",
        "str1 = str1.lower()\n",
        "str2 = str2.lower()\n",
        "if(len(str1) == len(str2)):\n",
        "    sorted_str1 = sorted(str1)\n",
        "    sorted_str2 = sorted(str2)\n",
        "    if(sorted_str1 == sorted_str2):\n",
        "        print(str1 + \" and \" + str2 + \" are anagram.\")\n",
        "    else:\n",
        "        print(str1 + \" and \" + str2 + \" are not anagram.\")\n",
        "\n",
        "else:\n",
        "    print(str1 + \" and \" + str2 + \" are not anagram.\")"
      ],
      "metadata": {
        "id": "_JAEojVFMfCL"
      },
      "execution_count": null,
      "outputs": []
    },
    {
      "cell_type": "code",
      "source": [
        "'''Q5- Write a code to find all occurrences of a given substring within another string'''\n",
        "import re\n",
        "sentence = input(\"Give me a sentence \")\n",
        "word = input(\"What word would you like to find \")\n",
        "for match in re.finditer(word, sentence):\n",
        "    print (match.start())"
      ],
      "metadata": {
        "id": "lonjBdc_MirT"
      },
      "execution_count": null,
      "outputs": []
    },
    {
      "cell_type": "code",
      "source": [
        "'''Q6-Write a code to perform basic string compression using the counts of repeated character'''\n",
        "def solve(s):\n",
        "   res = \"\"\n",
        "   cnt = 1\n",
        "   for i in range(1, len(s)):\n",
        "      if s[i - 1] == s[i]:\n",
        "         cnt += 1\n",
        "      else:\n",
        "         res = res + s[i - 1]\n",
        "         if cnt > 1:\n",
        "            res += str(cnt)\n",
        "         cnt = 1\n",
        "   res = res + s[-1]\n",
        "   if cnt > 1:\n",
        "      res += str(cnt)\n",
        "   return res\n",
        "\n",
        "s = \"abbbaaaaaaccdaaab\"\n",
        "print(solve(s))"
      ],
      "metadata": {
        "id": "Lg_FreaNMnOb"
      },
      "execution_count": null,
      "outputs": []
    },
    {
      "cell_type": "code",
      "source": [
        "'''Q7-.Write a code to determine if a string has all unique character'''\n",
        "\n",
        "def uniquechar(string):\n",
        "    return len(set(string)) == len(string)\n",
        "\n",
        "string1= input(\"Enter a string: \")\n",
        "if uniquechar(string1):\n",
        "    print(\"All characters in the string are unique.\")\n",
        "else:\n",
        "    print(\"The string contains duplicate characters.\")\n",
        "\n",
        "print('$$$$$$$$$$$$$$$$$$$$  second way  $$$$$$$$$$$$$$$$$$$$$$$$$$$$$$$$')\n",
        "def uniqueCharacters(str):\n",
        "    for i in range(len(str)):\n",
        "        for j in range(i + 1,len(str)):\n",
        "            if(str[i] == str[j]):\n",
        "                return False;\n",
        "    return True;\n",
        "\n",
        "str = input(\"enter string\");\n",
        "if(uniqueCharacters(str)):\n",
        "    print(\"The String \", str,\" has all unique characters\");\n",
        "else:\n",
        "    print(\"The String \", str, \" has duplicate characters\");"
      ],
      "metadata": {
        "id": "BfZ0N25EMqV6"
      },
      "execution_count": null,
      "outputs": []
    },
    {
      "cell_type": "code",
      "source": [
        "'''Q8-'Write a code to convert a given string to uppercase or lowercase'''\n",
        "str=input(\"enter string in upper case\")\n",
        "print(\"the orignal str\",str)\n",
        "str1=str.lower()\n",
        "print(str1)"
      ],
      "metadata": {
        "id": "LkWQpAySM-uZ"
      },
      "execution_count": null,
      "outputs": []
    },
    {
      "cell_type": "code",
      "source": [
        "'''Q9- Write a code to count the number of words in a string'''\n",
        "\n",
        "string = input (\"enter string:  \")\n",
        "print(string)\n",
        "result = len(string.split())\n",
        "print(\"Total no of words are\", result)"
      ],
      "metadata": {
        "id": "bwGQFg5YNCmW"
      },
      "execution_count": null,
      "outputs": []
    },
    {
      "cell_type": "code",
      "source": [
        "'''Q10- Write a code to concatenate two strings without using the + operator'''\n",
        "s1 = 'Python'\n",
        "s2 = 'programming language'\n",
        "s = ' '.join([s1, s2])\n",
        "print(s)"
      ],
      "metadata": {
        "id": "4bcHv5opNHcZ"
      },
      "execution_count": null,
      "outputs": []
    },
    {
      "cell_type": "code",
      "source": [
        "'''Q11-  Write a code to remove all occurrences of a specific element from a list'''\n",
        "\n",
        "string = 'Gagan is isnot a smart guy'\n",
        "print(string.replace('isnot', ''))"
      ],
      "metadata": {
        "id": "3Eu8-WjdNNMV"
      },
      "execution_count": null,
      "outputs": []
    },
    {
      "cell_type": "code",
      "source": [
        "'''Q12- Implement a code to find the second largest number in a given list of integers'''\n",
        "list=[ 100,200,500,1,3,9,11,99]\n",
        "list.sort()\n",
        "print(list)\n",
        "print(list[-2])"
      ],
      "metadata": {
        "id": "PF4IzvOSN1hs"
      },
      "execution_count": null,
      "outputs": []
    },
    {
      "cell_type": "code",
      "source": [
        "'''Q13- Create a code to count the occurrences of each element in a list and return a dictionary with elements as\n",
        "keys and their counts as values'''\n",
        "def dict(my_list):\n",
        "  count = {}\n",
        "  for element in my_list:\n",
        "    if element in count:\n",
        "      count[element] += 1\n",
        "    else:\n",
        "      count[element] = 1\n",
        "  return count\n",
        "\n",
        "my_list = [1, 2, 2, 3, 1, 4, 2]\n",
        "count = dict(my_list)\n",
        "print(count)"
      ],
      "metadata": {
        "id": "dCP1fCS7ON2d"
      },
      "execution_count": null,
      "outputs": []
    },
    {
      "cell_type": "code",
      "source": [
        "'''Q14- write a code to reverse a list in-place without using any built-in reverse functions'''\n",
        "\n",
        "list=[10, 11, 12, 13, 14, 15]\n",
        "new_list=list[::-1]\n",
        "print(new_list)\n",
        "'%%%%%%%%%%%%%%%%%%%%%%%%%%%%%%%%%%%%%%%%%%%%%%%%%%%%%%'\n",
        "\n",
        "def Reverse_the(lst):\n",
        "   new_lst = lst[::-1]\n",
        "   return new_lst\n",
        "\n",
        "\n",
        "lst = [10, 11, 12, 13, 13, 14, 15]\n",
        "print(Reverse_the(lst))\n",
        "\n",
        "unique_list = []\n",
        "for x in original_list:\n",
        "    if x not in unique_list:\n",
        "        unique_list.append(x)\n",
        "print(\"Update List:\", unique_list)"
      ],
      "metadata": {
        "id": "lNdK0vTWOVoO"
      },
      "execution_count": null,
      "outputs": []
    },
    {
      "cell_type": "code",
      "source": [
        "'''Q15- Implement a code to find and remove duplicates from a list while preserving the original order of\n",
        "elements'''\n",
        "\n",
        "L1 = [1, 2, 3, 4, 2,4,3,1]\n",
        "print(\"Original List:\", L1)\n",
        "\n",
        "L2 = []\n",
        "for x in L1:\n",
        "    if x not in L2:\n",
        "        L2.append(x)\n",
        "print(\"Update List:\",L2)"
      ],
      "metadata": {
        "id": "YACI9ZlMOsqj"
      },
      "execution_count": null,
      "outputs": []
    },
    {
      "cell_type": "code",
      "source": [
        "'''Q16-Create a code to check if a given list is sorted (either in ascending or descending order) or not'''\n",
        "list=[1,7,5,9,6,10]\n",
        "list.sort()\n",
        "print(list)\n",
        "list.sort(reverse=True)\n",
        "print(list)"
      ],
      "metadata": {
        "id": "aULBYn8xO1U9"
      },
      "execution_count": null,
      "outputs": []
    },
    {
      "cell_type": "code",
      "source": [
        "'''Q17- Write a code to merge two sorted lists into a single sorted list\u0012'''\n",
        "first = [2, 7, 9]\n",
        "second = [0, 1, 4]\n",
        "\n",
        "result = sorted(first + second)\n",
        "\n",
        "print(\"List after sorting: \", str(result))"
      ],
      "metadata": {
        "id": "IcDnuDNEO6Oj"
      },
      "execution_count": null,
      "outputs": []
    },
    {
      "cell_type": "code",
      "source": [
        "'''Q18- Implement a code to find the intersection of two given list'''\n",
        "def intersection(lst1, lst2):\n",
        "    lst3 = [value for value in lst1 if value in lst2]\n",
        "    return lst3\n",
        "\n",
        "\n",
        "lst1 = [4, 9, 1, 17, 11, 26, 28, 54, 69]\n",
        "lst2 = [9, 9, 74, 21, 45, 11, 63, 28, 26]\n",
        "print(intersection(lst1, lst2))"
      ],
      "metadata": {
        "id": "NjzzAREWPCL-"
      },
      "execution_count": null,
      "outputs": []
    },
    {
      "cell_type": "code",
      "source": [
        "'''Q19- Create a code to find the union of two lists without duplicates'''\n",
        "a = ['hello', 'world']\n",
        "b = ['hello', 'universe']\n",
        "\n",
        "c= list(set(a + b))\n",
        "\n",
        "print(c)"
      ],
      "metadata": {
        "id": "Pj5ge0erPIKK"
      },
      "execution_count": null,
      "outputs": []
    },
    {
      "cell_type": "code",
      "source": [
        "'''Q20- Write a code to shuffle a given list randomly without using any built-in shuffle functions'\n",
        "import random'''\n",
        "import random\n",
        "def new_list(input_list):\n",
        "    new_list = input_list[:]  # Create a copy of the original list\n",
        "    n = len(new_list)  # Get the length of the list\n",
        "    for i in range(n):\n",
        "        j = random.randint(0, n - 1)\n",
        "        new_list[i], new_list[j] = new_list[j], new_list[i]\n",
        "    return new_list\n",
        "\n",
        "original_list = [1, 2, 3, 4, 5]\n",
        "shuffled = new_list(original_list)\n",
        "print(\"Original list:\", original_list)\n",
        "print(\"Shuffled list:\", shuffled)"
      ],
      "metadata": {
        "id": "vpIieOOWPTtS"
      },
      "execution_count": null,
      "outputs": []
    },
    {
      "cell_type": "code",
      "source": [
        "'''Q21- Write a code that takes two tuples as input and returns a new tuple containing elements that are\n",
        "common to both input tuples\u0012'''\n",
        "def intersection(l1, l2):\n",
        "    set1 = set(l1)\n",
        "    set2 = set(l2)\n",
        "    intersect = set1.intersection(set2)\n",
        "    intersect_list = list(intersect)\n",
        "    return intersect_list\n",
        "list1 = [1, 2, 3, 4, 5]\n",
        "list2 = [4, 5, 6, 7, 8]\n",
        "intersect = intersection(list1, list2)\n",
        "print(\"Intersection of list1 and list2:\", intersect)"
      ],
      "metadata": {
        "id": "mk0jY0uHPkUV"
      },
      "execution_count": null,
      "outputs": []
    },
    {
      "cell_type": "code",
      "source": [
        "'''Q22-Create a code that prompts the user to enter two sets of integers separated by commas. Then, print the intersection of these two sets'''\n",
        "set1  = set(input('Enter space-separated words: ').split())\n",
        "print(set1)\n",
        "set2  = set(input('Enter space-separated words: ').split())\n",
        "print(set2)\n",
        "intersect_set=intersection(set1,set2)\n",
        "print(\"Intersection of set1 and set2:\", intersect_set)"
      ],
      "metadata": {
        "id": "91hO0VhLQCtb"
      },
      "execution_count": null,
      "outputs": []
    },
    {
      "cell_type": "code",
      "source": [
        "'''Q23- Write a code to concatenate two tuples. The function should take two tuples as input and return a new tuple containing elements from both input tuples.'''\n",
        "tup1=(1,2,3,4)\n",
        "tup2=(5,6,3,4)\n",
        "tup3=tup1+tup2\n",
        "print(tup3)"
      ],
      "metadata": {
        "id": "pjziC9GaQN3F"
      },
      "execution_count": null,
      "outputs": []
    },
    {
      "cell_type": "code",
      "source": [
        "#Q24- Develop a code that prompts the user to input two sets of strings. Then, print the elements that are present in the first set but not in the second set\n",
        "set1={\"anu\",\"veenu\",\"renu\"}\n",
        "set2={\"renu\",\"anumita\",\"vita\" }\n",
        "set3= set1 - set2\n",
        "print(set3)"
      ],
      "metadata": {
        "id": "fXPayFIsQWGE"
      },
      "execution_count": null,
      "outputs": []
    },
    {
      "cell_type": "code",
      "source": [
        "#Q25- Create a code that takes a tuple and two integers as input. The function should return a new tuple\n",
        "containing elements from the original tuple within the specified range of indices\n",
        "def slice_tuple(intuple, st, end):\n",
        "    if st < 0 or end_index > len(input_tuple) or start_index > end_index:\n",
        "        return ()\n",
        "    return input_tuple[start_index:end_index + 1]\n",
        "original_tuple = (1, 2, 3, 4, 5, 6, 7, 8, 9)\n",
        "start_index = 2\n",
        "end_index = 5\n",
        "result_tuple = slice_tuple(original_tuple, start_index, end_index)\n",
        "print(result_tuple)  # Output will be (3, 4, 5, 6)"
      ],
      "metadata": {
        "id": "nEfJx2v2QZpV"
      },
      "execution_count": null,
      "outputs": []
    },
    {
      "cell_type": "code",
      "source": [
        "#Q26- Write a code that prompts the user to input two sets of characters. Then, print the union of these two sets\n",
        "\n",
        "set1 = set(input(\"Enter characters for the first set (separated by space): \").split())\n",
        "print (set1)\n",
        "set2 = set(input(\"Enter characters for the second set (separated by space): \").split())\n",
        "union_set = set1.union(set2)\n",
        "print (set2)\n",
        "print(\"Union of the two sets:\", union_set)"
      ],
      "metadata": {
        "id": "0e4US09AQiHE"
      },
      "execution_count": null,
      "outputs": []
    },
    {
      "cell_type": "code",
      "source": [
        "#Q27- Develop a code that takes a tuple of integers as input. The function should return the maximum and minimum values from the tuple using tuple unpacking\n",
        "def min_max(tuple):\n",
        "    a, b, c, d = tuple\n",
        "    min_value = min(a, b, c, d)\n",
        "    max_value = max(a, b, c, d)\n",
        "    return min_value, max_value\n",
        "\n",
        "tup1 = (1, 2, 3, 9)\n",
        "min_value, max_value = min_max(tup1)\n",
        "print(\"Minimum value:\", min_value)\n",
        "print(\"Maximum value:\", max_value)"
      ],
      "metadata": {
        "id": "BN_jZ1N7Qr4D"
      },
      "execution_count": null,
      "outputs": []
    },
    {
      "cell_type": "code",
      "source": [
        "#Q28- Create a code that defines two sets of integers. Then, print the union, intersection, and difference of these two sets\n",
        "s1={1,2,3,5}\n",
        "s2={4,6,7,8}\n",
        "s3= s1.union(s2)\n",
        "print(s3)\n",
        "s4=s1.intersection(s2)\n",
        "print (s4)"
      ],
      "metadata": {
        "id": "gYbVs6JzQyhP"
      },
      "execution_count": null,
      "outputs": []
    },
    {
      "cell_type": "code",
      "source": [
        "'''Q29-Writ( + cod( th+t t+k(s + tupl( +nd +n (l(m(nt +s input. Th( function should r(turn th( count of\n",
        "occurr(nc(s of th( giv(n (l(m(nt in th( tupl(&'''\n",
        "def count_occurrences(tup, element):\n",
        "  tuple=tup.count(element)\n",
        "  return tuple\n",
        "tuple= (1, 2, 3, 4, 1, 2, 1, 1, 5, 1)\n",
        "element= 1\n",
        "count_occurrences(tuple,element)"
      ],
      "metadata": {
        "id": "NJ2MhRPi3nYt"
      },
      "execution_count": null,
      "outputs": []
    },
    {
      "cell_type": "code",
      "source": [
        "'''Q30- D(v(lop + cod( th+t prompts th( us(r to input two s(ts of strings. Th(n print th( s\u0004mm(tric diff(r(nc( of\n",
        "th(s( two s(ts&'''\n",
        "def get_set_from_input(prompt):\n",
        "    user_input = input(prompt)\n",
        "    return set(user_input.split())\n",
        "set1 = get_set_from_input(\"Enter the first set of strings (separated by spaces): \")\n",
        "set2 = get_set_from_input(\"Enter the second set of strings (separated by spaces): \")\n",
        "sym_diff = set1.symmetric_difference(set2)\n",
        "print(\"The symmetric difference of the two sets is:\", sym_diff)"
      ],
      "metadata": {
        "id": "ow4a7oAS4p2f"
      },
      "execution_count": null,
      "outputs": []
    },
    {
      "cell_type": "code",
      "source": [
        "'''Q31-& Writ( + cod( th+t t+k(s + list of words +s input +nd r(turns + diction+r\u0004 wh(r( th( k(\u0004s +r( uni\n",
        "u( words\n",
        "+nd th( v+lu(s +r( th( fr(\n",
        "u(nci(s of thos( words in th( input list'''\n",
        "def word_frequencies(word_list):\n",
        "    frequency_dict = {}\n",
        "    for word in word_list:\n",
        "        if word in frequency_dict:\n",
        "            frequency_dict[word] += 1\n",
        "        else:\n",
        "            frequency_dict[word] = 1\n",
        "    return frequency_dict\n",
        "words = [\"anshu\", \"banana\", \"apple\", \"orange\", \"banana\", \"apple\"]\n",
        "word_frequencies(words)"
      ],
      "metadata": {
        "id": "VkFx1ppL-WHq"
      },
      "execution_count": null,
      "outputs": []
    },
    {
      "cell_type": "code",
      "source": [
        "'''Q32-Writ( + cod( th+t t+k(s two diction+ri(s +s input +nd m(rg(s th(m into + singl( diction+r\u0004. If th(r( +r(\n",
        "common k(\u0004s th( v+lu(s should b( +dd(d tog(th(r'''\n",
        "def Merge(dict1, dict2):\n",
        "\treturn(dict2.update(dict1))\n",
        "\n",
        "dict1 = {'a': 10, 'b': 8}\n",
        "dict2 = {'d': 6, 'c': 4}\n",
        "print(Merge(dict1, dict2))\n",
        "print(dict2)"
      ],
      "metadata": {
        "id": "udHSn035AIkf"
      },
      "execution_count": null,
      "outputs": []
    },
    {
      "cell_type": "code",
      "source": [
        "'''Q33-Writ( + cod( to +cc(ss + v+lu( in + n(st(d diction+r\u0004. Th( function should t+k( th( diction+r\u0004 +nd + list of\n",
        "k(\u0004s +s input +nd r(turn th( corr(sponding v+lu(. If +n\u0004 of th( k(\u0004s do not (\bist in th( diction+r\u0004 th(\n",
        "function should r(turn Non(&'''\n",
        "def get_nested_value(dictionary, keys):\n",
        "    current_dict = dictionary\n",
        "    for key in keys:\n",
        "        if key in current_dict:\n",
        "            current_dict = current_dict[key]\n",
        "        else:\n",
        "            return None\n",
        "    return current_dict\n",
        "nested_dict = {\n",
        "    'a': {\n",
        "        'b': {\n",
        "            'c': 42\n",
        "        }\n",
        "    }\n",
        "}\n",
        "\n",
        "keys = ['a', 'b', 'c']\n",
        "get_nested_value(nested_dict, keys)"
      ],
      "metadata": {
        "id": "_C3-PdTOBvaC"
      },
      "execution_count": null,
      "outputs": []
    },
    {
      "cell_type": "code",
      "source": [
        "'''Q34-Writ( + cod( th+t t+k(s + diction+r\u0004 +s input +nd r(turns + sort(d v(rsion of it b+s(d on th( v+lu(s. You\n",
        "c+n choos( wh(th(r to sort in +sc(nding or d(sc(nding ord(r'''\n",
        "def sort_dict_by_values(dictionary, ascending=True):\n",
        "    sorted_items = sorted(dictionary.items(), key=lambda x: x[1], reverse=not ascending)\n",
        "    sorted_dict = dict(sorted_items)\n",
        "    return sorted_dict\n",
        "my_dict = {'apple': 3, 'banana': 2, 'orange': 1, 'grape': 4}\n",
        "print(sort_dict_by_values(my_dict, ascending=True))\n",
        "print(sort_dict_by_values(my_dict, ascending=False))"
      ],
      "metadata": {
        "id": "WcSr2pkbEfPY"
      },
      "execution_count": null,
      "outputs": []
    },
    {
      "cell_type": "code",
      "source": [
        "'''Q35-\n",
        "& Writ( + cod( th+t inv(rts + diction+r\u0004 sw+pping k(\u0004s +nd v+lu(s. Ensur( th+t th( inv(rt(d diction+r\u0004\n",
        "corr(ctl\u0004 h+ndl(s c+s(s wh(r( multipl( k(\u0004s h+v( th( s+m( v+lu( b\u0004 storing th( k(\u0004s +s + list in th(\n",
        "inv(rt(d diction+r\u0004.'''\n",
        "def invert_dictionary(original_dict):\n",
        "    inverted_dict = {}\n",
        "    for key, value in original_dict.items():\n",
        "        if value not in inverted_dict:\n",
        "            inverted_dict[value] = [key]\n",
        "        else:\n",
        "            inverted_dict[value].append(key)\n",
        "    return inverted_dict\n",
        "my_dict = {'apple': 3, 'banana': 2, 'orange': 1, 'grape': 3}\n",
        "inverted_dict = invert_dictionary(my_dict)\n",
        "print(\"Inverted dictionary:\", inverted_dict)"
      ],
      "metadata": {
        "id": "X4E6aGKTG3vD"
      },
      "execution_count": null,
      "outputs": []
    }
  ]
}